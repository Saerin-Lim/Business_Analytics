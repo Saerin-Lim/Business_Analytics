{
 "cells": [
  {
   "cell_type": "markdown",
   "metadata": {},
   "source": [
    "### 오토 인코더 기반 이상탐지 튜토리얼\n",
    "##### 데이터 불러오기"
   ]
  },
  {
   "cell_type": "code",
   "execution_count": 73,
   "metadata": {},
   "outputs": [
    {
     "name": "stdout",
     "output_type": "stream",
     "text": [
      "MNIST data shape : torch.Size([70000, 28, 28]) | K-MNIST data shape : torch.Size([70000, 28, 28])\n"
     ]
    }
   ],
   "source": [
    "import torch\n",
    "import torchvision.datasets as datasets\n",
    "from utils import set_seed\n",
    "\n",
    "import warnings\n",
    "warnings.filterwarnings(action='ignore')\n",
    "\n",
    "set_seed(2022) # fix random number generator seed\n",
    "device = 'cuda:0' # use gpu. if you want to use cpu, assign like that -> device = 'cpu'\n",
    "\n",
    "def load_MNIST():\n",
    "    trainset = datasets.MNIST(root='./data', train=True, download=False)\n",
    "    testset = datasets.MNIST(root='./data', train=False, download=False)\n",
    "\n",
    "    X = torch.cat([trainset.data, testset.data], dim=0)\n",
    "    \n",
    "    return X\n",
    "\n",
    "def load_KMNIST():\n",
    "    trainset = datasets.KMNIST(root='./data', train=True, download=False)\n",
    "    testset = datasets.KMNIST(root='./data', train=False, download=False)\n",
    "\n",
    "    X = torch.cat([trainset.data, testset.data], dim=0)\n",
    "\n",
    "    return X\n",
    "\n",
    "M_X = load_MNIST()\n",
    "K_X = load_KMNIST()\n",
    "\n",
    "print(f'MNIST data shape : {M_X.shape} | K-MNIST data shape : {K_X.shape}')"
   ]
  },
  {
   "cell_type": "markdown",
   "metadata": {},
   "source": [
    "#### 이상탐지를 위한 데이터 세팅"
   ]
  },
  {
   "cell_type": "code",
   "execution_count": 2,
   "metadata": {},
   "outputs": [
    {
     "name": "stdout",
     "output_type": "stream",
     "text": [
      "train / valid / test = 20000 / 10000 / 10000\n"
     ]
    }
   ],
   "source": [
    "import random\n",
    "import numpy as np\n",
    "\n",
    "# randomly sampling img indices\n",
    "m_idx = np.random.choice(60000, size=(30000,), replace=False) # total normal data   : 30000\n",
    "k_idx = np.random.choice(60000, size=(10000,), replace=False) # total abnormal data : 10000\n",
    "\n",
    "# shuffling indices to split data to train/valid/test\n",
    "random.shuffle(m_idx)\n",
    "random.shuffle(k_idx)\n",
    "\n",
    "# sampling normal & abnormal data\n",
    "normal_X = M_X[m_idx]\n",
    "abnormal_X = K_X[k_idx]\n",
    "\n",
    "# generate targets, if normal -> 0 elif abnormal -> 1\n",
    "normal_y = torch.LongTensor([0]*30000)\n",
    "abnormal_y = torch.LongTensor([1]*10000)\n",
    "\n",
    "# shuffling indices to split data to train/valid/test\n",
    "random.shuffle(m_idx)\n",
    "random.shuffle(k_idx)\n",
    "\n",
    "# split data to train/valid/test sets\n",
    "# train set -> # of normal : 20000\n",
    "X_train, y_train = normal_X[:20000], normal_y[:20000]\n",
    "\n",
    "# valid set -> # of normal : 5000 | # of abnormal : 5000\n",
    "X_valid = torch.cat([normal_X[20000:25000],abnormal_X[:5000]])\n",
    "y_valid = torch.cat([normal_y[20000:25000],abnormal_y[:5000]])\n",
    "\n",
    "# valid set -> # of normal : 5000 | # of abnormal : 5000\n",
    "X_test = torch.cat([normal_X[25000:],abnormal_X[5000:]])\n",
    "y_test = torch.cat([normal_y[25000:],abnormal_y[5000:]])\n",
    "\n",
    "print(f'train / valid / test = {len(X_train)} / {len(X_valid)} / {len(X_test)}')"
   ]
  },
  {
   "cell_type": "code",
   "execution_count": 3,
   "metadata": {},
   "outputs": [],
   "source": [
    "from torch.utils.data import Dataset, DataLoader\n",
    "import torchvision.transforms as transforms\n",
    "\n",
    "class Custom_dataset(Dataset):\n",
    "    def __init__(self, X, y):\n",
    "        super().__init__()\n",
    "        \n",
    "        #transform img size (28,28) to (32,32)\n",
    "        self.transform = transforms.Compose([transforms.ToPILImage(),\n",
    "                                             transforms.Resize(32),\n",
    "                                             transforms.ToTensor()])\n",
    "        self.X, self.y = X, y\n",
    "            \n",
    "    def __getitem__(self, idx):\n",
    "        return {'X':self.transform(self.X[idx]), 'y':self.y[idx]}\n",
    "    \n",
    "    def __len__(self):\n",
    "        return len(self.y)\n",
    "    \n",
    "train_set = Custom_dataset(X_train, y_train)\n",
    "valid_set = Custom_dataset(X_valid, y_valid)\n",
    "test_set = Custom_dataset(X_test, y_test)\n",
    "\n",
    "train_loader = DataLoader(train_set, batch_size=256, shuffle=True)\n",
    "valid_loader = DataLoader(valid_set, batch_size=256, shuffle=False)\n",
    "test_loader = DataLoader(test_set, batch_size=256, shuffle=False)"
   ]
  },
  {
   "cell_type": "markdown",
   "metadata": {},
   "source": [
    "#### 오토인코더 모델"
   ]
  },
  {
   "cell_type": "code",
   "execution_count": 4,
   "metadata": {},
   "outputs": [],
   "source": [
    "import torch\n",
    "import torch.nn as nn\n",
    "\n",
    "class Encoder(nn.Module):\n",
    "    def __init__(self, feature_maps=[16,32,64,128]):\n",
    "        super().__init__()\n",
    "        \n",
    "        self.enc = self.make_layers(feature_maps)\n",
    "        self.gap = nn.AdaptiveAvgPool2d(1)\n",
    "    \n",
    "    def forward(self, x):\n",
    "        \"\"\"x : batch, 1, W, H\"\"\"\n",
    "\n",
    "        x = self.enc(x) # B, 128, 2, 2\n",
    "        x = self.gap(x) # B, 128, 1, 1\n",
    "        \n",
    "        return x\n",
    "    \n",
    "    def make_layers(self, feature_maps):\n",
    "        layers = []\n",
    "        input_dim = 1\n",
    "        for i, feature_dim in enumerate(feature_maps):\n",
    "\n",
    "            layers += [nn.Conv2d(input_dim, feature_dim, kernel_size=3, stride=1, padding=1),\n",
    "                    nn.BatchNorm2d(feature_dim),\n",
    "                    nn.ReLU(True),\n",
    "                    nn.MaxPool2d((2,2),2)]\n",
    "\n",
    "            input_dim = feature_dim\n",
    "        return nn.Sequential(*layers)"
   ]
  },
  {
   "cell_type": "code",
   "execution_count": 5,
   "metadata": {},
   "outputs": [],
   "source": [
    "class Decoder(nn.Module):\n",
    "    def __init__(self, feature_maps=[128,64,32,16,1]):\n",
    "        super().__init__()\n",
    "                \n",
    "        self.dec = self.make_layers(feature_maps)\n",
    "    \n",
    "    def forward(self, x):\n",
    "        \"\"\"x : batch, hid dim, 1, 1\"\"\"\n",
    "        x = self.dec(x) # B, 1, 32, 32\n",
    "        return x\n",
    "    \n",
    "    def make_layers(self, feature_maps):\n",
    "        layers = []\n",
    "        input_dim = 128\n",
    "        for i, feature_dim in enumerate(feature_maps):\n",
    "            if i+1 != len(feature_maps):\n",
    "                layers += [nn.ConvTranspose2d(input_dim, feature_dim, kernel_size=2, stride=2),\n",
    "                        nn.BatchNorm2d(feature_dim),\n",
    "                        nn.ReLU(True)]\n",
    "            else:\n",
    "                layers += [nn.ConvTranspose2d(input_dim, feature_dim, kernel_size=2, stride=2)]\n",
    "            input_dim = feature_dim\n",
    "        return nn.Sequential(*layers)"
   ]
  },
  {
   "cell_type": "code",
   "execution_count": 6,
   "metadata": {},
   "outputs": [],
   "source": [
    "from utils import initialize_weights\n",
    "\n",
    "class Autoencoder(nn.Module):\n",
    "    def __init__(self,\n",
    "                 enc_feature_maps=[16,32,64,128],\n",
    "                 dec_feature_maps=[128,64,32,16,1]):\n",
    "        super().__init__()\n",
    "                \n",
    "        self.enc = Encoder(feature_maps=enc_feature_maps)\n",
    "        self.dec = Decoder(feature_maps=dec_feature_maps)\n",
    "        \n",
    "        self.apply(initialize_weights)\n",
    "    \n",
    "    def forward(self, x):\n",
    "        \"\"\"x: B,3,32,32\"\"\"\n",
    "        x = self.enc(x) # B, hid dim, 1, 1\n",
    "        x = self.dec(x) # B, 3, 32, 32\n",
    "        return x\n",
    "    \n",
    "model = Autoencoder().to(device)"
   ]
  },
  {
   "cell_type": "markdown",
   "metadata": {},
   "source": [
    "#### 오토인코더 기반 이상탐지 프레임워크\n",
    "\n",
    "##### 학습 단계"
   ]
  },
  {
   "cell_type": "code",
   "execution_count": 7,
   "metadata": {},
   "outputs": [
    {
     "name": "stdout",
     "output_type": "stream",
     "text": [
      "Epoch : 1 | train loss : 0.783915 | required time : 5.11\n",
      "Epoch : 2 | train loss : 0.084003 | required time : 1.66\n",
      "Epoch : 3 | train loss : 0.039879 | required time : 1.8\n",
      "Epoch : 4 | train loss : 0.026536 | required time : 1.73\n",
      "Epoch : 5 | train loss : 0.020347 | required time : 1.77\n",
      "Epoch : 6 | train loss : 0.01693 | required time : 1.65\n",
      "Epoch : 7 | train loss : 0.014824 | required time : 1.68\n",
      "Epoch : 8 | train loss : 0.013585 | required time : 1.7\n",
      "Epoch : 9 | train loss : 0.012675 | required time : 1.65\n",
      "Epoch : 10 | train loss : 0.011724 | required time : 1.78\n",
      "Epoch : 11 | train loss : 0.011165 | required time : 1.74\n",
      "Epoch : 12 | train loss : 0.010584 | required time : 1.76\n",
      "Epoch : 13 | train loss : 0.010097 | required time : 1.65\n",
      "Epoch : 14 | train loss : 0.009702 | required time : 1.79\n",
      "Epoch : 15 | train loss : 0.009278 | required time : 1.94\n",
      "Epoch : 16 | train loss : 0.008808 | required time : 1.78\n",
      "Epoch : 17 | train loss : 0.008522 | required time : 3.3\n",
      "Epoch : 18 | train loss : 0.008391 | required time : 4.15\n",
      "Epoch : 19 | train loss : 0.007835 | required time : 3.96\n",
      "Epoch : 20 | train loss : 0.00767 | required time : 4.14\n",
      "Epoch : 21 | train loss : 0.007622 | required time : 2.13\n",
      "Epoch : 22 | train loss : 0.007088 | required time : 1.67\n",
      "Epoch : 23 | train loss : 0.006919 | required time : 1.67\n",
      "Epoch : 24 | train loss : 0.00684 | required time : 1.72\n",
      "Epoch : 25 | train loss : 0.006519 | required time : 1.76\n",
      "Epoch : 26 | train loss : 0.006576 | required time : 1.74\n",
      "Epoch : 27 | train loss : 0.006225 | required time : 1.65\n",
      "Epoch : 28 | train loss : 0.006082 | required time : 1.72\n",
      "Epoch : 29 | train loss : 0.005993 | required time : 1.67\n",
      "Epoch : 30 | train loss : 0.005859 | required time : 1.79\n",
      "Epoch : 31 | train loss : 0.00554 | required time : 1.68\n",
      "Epoch : 32 | train loss : 0.005581 | required time : 1.66\n",
      "Epoch : 33 | train loss : 0.005382 | required time : 2.79\n",
      "Epoch : 34 | train loss : 0.005362 | required time : 4.47\n",
      "Epoch : 35 | train loss : 0.005181 | required time : 4.34\n",
      "Epoch : 36 | train loss : 0.004968 | required time : 4.14\n",
      "Epoch : 37 | train loss : 0.004829 | required time : 3.85\n",
      "Epoch : 38 | train loss : 0.00482 | required time : 4.11\n",
      "Epoch : 39 | train loss : 0.004774 | required time : 3.97\n",
      "Epoch : 40 | train loss : 0.00465 | required time : 4.03\n",
      "Epoch : 41 | train loss : 0.00487 | required time : 4.0\n",
      "Epoch : 42 | train loss : 0.004372 | required time : 3.9\n",
      "Epoch : 43 | train loss : 0.004263 | required time : 3.84\n",
      "Epoch : 44 | train loss : 0.004329 | required time : 4.17\n",
      "Epoch : 45 | train loss : 0.004175 | required time : 3.94\n",
      "Epoch : 46 | train loss : 0.004403 | required time : 3.99\n",
      "Epoch : 47 | train loss : 0.004086 | required time : 4.16\n",
      "Epoch : 48 | train loss : 0.004214 | required time : 3.79\n",
      "Epoch : 49 | train loss : 0.004003 | required time : 3.8\n",
      "Epoch : 50 | train loss : 0.004074 | required time : 3.14\n"
     ]
    }
   ],
   "source": [
    "import time\n",
    "\n",
    "def train(train_loader, model, loss_fn, opt, epochs = 50):\n",
    "    \n",
    "    total_loss = []\n",
    "    \n",
    "    for epoch in range(1, epochs+1):\n",
    "        model.train()\n",
    "        train_loss = 0.0\n",
    "        since = time.time()\n",
    "        \n",
    "        for i, batch in enumerate(train_loader):\n",
    "            x = batch['X'].to(device) # B, 1, 32, 32\n",
    "            pred = model(x) # B, 1, 32, 32\n",
    "            \n",
    "            loss = loss_fn(pred, x)\n",
    "            opt.zero_grad()\n",
    "            loss.backward()\n",
    "            opt.step()\n",
    "            \n",
    "            train_loss += loss.item()\n",
    "        \n",
    "        train_loss = train_loss/(i+1)\n",
    "        total_loss.append(train_loss)\n",
    "        t_time = time.time() - since\n",
    "        \n",
    "        print(f'Epoch : {epoch} | train loss : {round(train_loss, 6)} | required time : {round(t_time,2)}')\n",
    "\n",
    "    return total_loss\n",
    "    \n",
    "epochs = 50\n",
    "loss_fn = nn.MSELoss().to(device)\n",
    "opt = torch.optim.Adam(model.parameters(), lr=1e-3, weight_decay=5e-4)\n",
    "\n",
    "total_loss = train(train_loader, model, loss_fn, opt, epochs=epochs)"
   ]
  },
  {
   "cell_type": "code",
   "execution_count": 8,
   "metadata": {},
   "outputs": [
    {
     "data": {
      "image/png": "[encoded data removed]",
      "text/plain": [
       "<Figure size 432x288 with 1 Axes>"
      ]
     },
     "metadata": {
      "needs_background": "light"
     },
     "output_type": "display_data"
    }
   ],
   "source": [
    "import matplotlib.pyplot as plt\n",
    "import seaborn as sns\n",
    "\n",
    "sns.lineplot(x=range(6,epochs+1), y=total_loss[5:])\n",
    "plt.xlabel('Epoch')\n",
    "plt.ylabel('Train Loss')\n",
    "plt.title('Train Loss per Epoch')\n",
    "plt.show()"
   ]
  },
  {
   "cell_type": "code",
   "execution_count": 9,
   "metadata": {},
   "outputs": [
    {
     "data": {
      "text/plain": [
       "Text(0.5, 1.0, 'Reconstruction Image 2')"
      ]
     },
     "execution_count": 9,
     "metadata": {},
     "output_type": "execute_result"
    },
    {
     "data": {
      "image/png": "[encoded data removed]",
      "text/plain": [
       "<Figure size 720x720 with 4 Axes>"
      ]
     },
     "metadata": {
      "needs_background": "light"
     },
     "output_type": "display_data"
    }
   ],
   "source": [
    "# get original imgs\n",
    "batch = next(iter(train_loader))\n",
    "original = batch['X'][:2].to(device) # 2, 3, 32, 32\n",
    "\n",
    "# get reconstruction imgs\n",
    "with torch.no_grad():\n",
    "    pred = model(original) # 2, 3, 32, 32\n",
    "\n",
    "# transform tensor to numpy with shape 2, 32, 32, 3\n",
    "original = np.transpose(original.detach().cpu().numpy(), (0, 2, 3, 1))\n",
    "pred = np.transpose(pred.detach().cpu().numpy(), (0, 2, 3, 1))\n",
    "\n",
    "plt.figure(figsize=(10,10))\n",
    "plt.subplot(2,2,1)\n",
    "plt.imshow(original[0], cmap='gray')\n",
    "plt.title('Orignal Image 1')\n",
    "\n",
    "plt.subplot(2,2,2)\n",
    "plt.imshow(pred[0], cmap='gray')\n",
    "plt.title('Reconstruction Image 1')\n",
    "\n",
    "plt.subplot(2,2,3)\n",
    "plt.imshow(original[1], cmap='gray')\n",
    "plt.title('Orignal Image 2')\n",
    "\n",
    "plt.subplot(2,2,4)\n",
    "plt.imshow(pred[1], cmap='gray')\n",
    "plt.title('Reconstruction Image 2')"
   ]
  },
  {
   "cell_type": "markdown",
   "metadata": {},
   "source": [
    "##### 이상탐지단계"
   ]
  },
  {
   "cell_type": "code",
   "execution_count": 49,
   "metadata": {},
   "outputs": [],
   "source": [
    "import pandas as pd\n",
    "from sklearn.metrics import f1_score, accuracy_score\n",
    "\n",
    "def get_anomaly_score(model, data_loader):\n",
    "    model.eval()\n",
    "    loss_fn = nn.MSELoss(reduction='none').to(device)\n",
    "    anomaly_scores = []\n",
    "    targets = []\n",
    "    \n",
    "    with torch.no_grad():\n",
    "        for batch in data_loader:\n",
    "            x = batch['X'].to(device) # B, 1, 32, 32\n",
    "            targets += batch['y'].detach().tolist() # B\n",
    "\n",
    "            pred = model(x) # B, 1, 32, 32\n",
    "            mse = loss_fn(pred, x) # B, 1, 32, 32\n",
    "            anomaly_scores += torch.mean(mse.view(-1,32*32),\n",
    "                                       dim=1).detach().cpu().tolist() # B\n",
    "\n",
    "    \n",
    "    df = pd.DataFrame({'img id':range(1,len(targets)+1),\n",
    "                       'anomaly score':anomaly_scores,\n",
    "                       'target':targets})\n",
    "    \n",
    "    return df\n",
    "\n",
    "def anomaly_detection(df:pd.DataFrame, threshold:float):\n",
    "    df['pred'] = np.where(df['anomaly score'] > threshold, 1, 0)\n",
    "    f1 = f1_score(df['target'], df['pred'])\n",
    "    acc = accuracy_score(df['target'], df['pred'])\n",
    "    \n",
    "    return f1, acc"
   ]
  },
  {
   "cell_type": "code",
   "execution_count": 32,
   "metadata": {},
   "outputs": [
    {
     "name": "stdout",
     "output_type": "stream",
     "text": [
      "normal mean & std : (0.011799,0.003691)\n",
      "normal max & min : (0.027663,0.002723) \n",
      "\n",
      "abnormal mean & std : (0.052069,0.024842)\n",
      "abnormal max & min : (0.226932,0.006235) \n",
      "\n"
     ]
    },
    {
     "data": {
      "text/plain": [
       "<matplotlib.legend.Legend at 0x1b7b7008940>"
      ]
     },
     "execution_count": 32,
     "metadata": {},
     "output_type": "execute_result"
    },
    {
     "data": {
      "image/png": "[encoded data removed]",
      "text/plain": [
       "<Figure size 432x288 with 1 Axes>"
      ]
     },
     "metadata": {
      "needs_background": "light"
     },
     "output_type": "display_data"
    }
   ],
   "source": [
    "# get anomaly scores of valid set\n",
    "df = get_anomaly_score(model, valid_loader)\n",
    "\n",
    "# check statistics of anomlay scores according to class(normal or abnormal)\n",
    "normal_df = df[df['target']==0]['anomaly score']\n",
    "abnormal_df = df[df['target']==1]['anomaly score']\n",
    "\n",
    "print(f'normal mean & std : ({round(normal_df.mean(),6)},{round(normal_df.std(),6)})')\n",
    "print(f'normal max & min : ({round(normal_df.max(),6)},{round(normal_df.min(),6)}) \\n')\n",
    "\n",
    "print(f'abnormal mean & std : ({round(abnormal_df.mean(),6)},{round(abnormal_df.std(),6)})')\n",
    "print(f'abnormal max & min : ({round(abnormal_df.max(),6)},{round(abnormal_df.min(),6)}) \\n')\n",
    "\n",
    "# histogram of anomlay scores according to class(normal or abnormal)\n",
    "sns.histplot(df[df['target']==0]['anomaly score'],\n",
    "             color='blue', label='normal')\n",
    "\n",
    "sns.histplot(df[df['target']==1]['anomaly score'],\n",
    "             color='red', label='abnormal')\n",
    "plt.title('Histogram of Anomaly Scores')\n",
    "plt.legend()"
   ]
  },
  {
   "cell_type": "markdown",
   "metadata": {},
   "source": [
    "##### threshold grid search"
   ]
  },
  {
   "cell_type": "code",
   "execution_count": 53,
   "metadata": {},
   "outputs": [
    {
     "name": "stdout",
     "output_type": "stream",
     "text": [
      "best f1-score : 96.58 | best accuracy : 96.61 | best threshold : 0.0195\n"
     ]
    }
   ],
   "source": [
    "def threshold_search(df:pd.DataFrame, min, max, step):\n",
    "    search_space = np.arange(min, max+step, step)\n",
    "    best_f1 = 0.\n",
    "    best_acc = 0.\n",
    "    best_threshold = 0.\n",
    "    \n",
    "    for threshold in search_space:\n",
    "        crt_f1, crt_acc = anomaly_detection(df, threshold)\n",
    "        \n",
    "        if crt_f1 > best_f1:\n",
    "            best_f1 = crt_f1\n",
    "            best_threshold = threshold\n",
    "            best_acc = crt_acc\n",
    "    \n",
    "    return round(best_f1*100,2), round(best_acc*100,2), round(best_threshold, 5)\n",
    "\n",
    "best_f1, best_acc, best_threshold = threshold_search(df, 0.006, 0.028, 0.0005)\n",
    "\n",
    "print(f'best f1-score : {best_f1} | best accuracy : {best_acc} | best threshold : {best_threshold}')"
   ]
  },
  {
   "cell_type": "markdown",
   "metadata": {},
   "source": [
    "테스트 집합 이상 탐지"
   ]
  },
  {
   "cell_type": "code",
   "execution_count": 72,
   "metadata": {},
   "outputs": [
    {
     "name": "stdout",
     "output_type": "stream",
     "text": [
      "Performace of our threshold -> f1-score : 96.54 | accuracy : 96.57\n"
     ]
    },
    {
     "data": {
      "image/png": "[encoded data removed]",
      "text/plain": [
       "<Figure size 432x288 with 1 Axes>"
      ]
     },
     "metadata": {
      "needs_background": "light"
     },
     "output_type": "display_data"
    }
   ],
   "source": [
    "# get anomaly scores of test set\n",
    "test_df = get_anomaly_score(model, test_loader)\n",
    "\n",
    "search_space = np.arange(0.006, 0.028+0.0005, 0.0005)\n",
    "\n",
    "f1_list = []\n",
    "acc_list = []\n",
    "our_threshold = best_threshold\n",
    "\n",
    "for threshold in search_space:\n",
    "    \n",
    "    crt_f1, crt_acc = anomaly_detection(test_df, threshold)\n",
    "    f1_list.append(crt_f1)\n",
    "    acc_list.append(crt_acc)\n",
    "    \n",
    "    \n",
    "sns.lineplot(search_space, f1_list, label='f1-score')\n",
    "sns.lineplot(search_space, acc_list, label='accuracy')\n",
    "\n",
    "plt.axvline(x=best_threshold, color='green')\n",
    "plt.title('Detection Performace')\n",
    "plt.xlabel('threshold')\n",
    "plt.ylabel('performace')\n",
    "plt.legend()\n",
    "\n",
    "our_f1, our_acc = crt_f1, crt_acc = anomaly_detection(test_df, best_threshold)\n",
    "print(f'Performace of our threshold -> f1-score : {round(our_f1*100,2)} | accuracy : {round(our_acc*100,2)}')"
   ]
  }
 ],
 "metadata": {
  "kernelspec": {
   "display_name": "Python 3.9.12 ('py39')",
   "language": "python",
   "name": "python3"
  },
  "language_info": {
   "codemirror_mode": {
    "name": "ipython",
    "version": 3
   },
   "file_extension": ".py",
   "mimetype": "text/x-python",
   "name": "python",
   "nbconvert_exporter": "python",
   "pygments_lexer": "ipython3",
   "version": "3.9.12"
  },
  "orig_nbformat": 4,
  "vscode": {
   "interpreter": {
    "hash": "6bacb95be4e4514d63bcba8b46d6bef0d7acf20e01bf75b4c03bf98063683e03"
   }
  }
 },
 "nbformat": 4,
 "nbformat_minor": 2
}
