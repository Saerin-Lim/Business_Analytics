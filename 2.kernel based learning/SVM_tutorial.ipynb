{
 "cells": [
  {
   "cell_type": "markdown",
   "metadata": {},
   "source": [
    "#### 데이터셋 불러오기"
   ]
  },
  {
   "cell_type": "code",
   "execution_count": 28,
   "metadata": {},
   "outputs": [],
   "source": [
    "import pandas as pd\n",
    "import numpy as np\n",
    "import tabulate\n",
    "from utils import load_data\n",
    "\n",
    "data_list = ['iris','breast_cancer','wine','penguins','titanic','algerian_forest_fires',\n",
    "            'breast_cancer_coimbra','heart_failure_clinical_records','seeds','HCV',\n",
    "            'breast_tissue','digits','MNIST','FashionMNIST','KMNIST']\n",
    "\n",
    "datasets = dict()\n",
    "df_info = pd.DataFrame()\n",
    "\n",
    "num_samples, num_classes, num_input = [], [], []\n",
    "for data in data_list:\n",
    "    datasets[data] = load_data(data)\n",
    "    n = datasets[data]['x'].shape[0]\n",
    "    m = datasets[data]['x'].shape[1]\n",
    "    classes = np.unique(datasets[data]['y']).shape[0]\n",
    "    num_samples.append(n)\n",
    "    num_classes.append(classes)\n",
    "    num_input.append(m)\n",
    "\n",
    "df_info['Dataset'] = data_list\n",
    "df_info['Number of Samples'] = num_samples\n",
    "df_info['Number of Classes'] = num_classes\n",
    "df_info['Number of Input Variables'] = num_input"
   ]
  },
  {
   "cell_type": "code",
   "execution_count": 29,
   "metadata": {},
   "outputs": [
    {
     "name": "stdout",
     "output_type": "stream",
     "text": [
      "|    | Dataset                        |   Number of Samples |   Number of Classes |   Number of Input Variables |\n",
      "|---:|:-------------------------------|--------------------:|--------------------:|----------------------------:|\n",
      "|  0 | iris                           |                 150 |                   3 |                           4 |\n",
      "|  1 | breast_cancer                  |                 569 |                   2 |                          30 |\n",
      "|  2 | wine                           |                 178 |                   3 |                          13 |\n",
      "|  3 | penguins                       |                 333 |                   3 |                           7 |\n",
      "|  4 | titanic                        |                 182 |                   2 |                          23 |\n",
      "|  5 | algerian_forest_fires          |                 244 |                   2 |                          10 |\n",
      "|  6 | breast_cancer_coimbra          |                 116 |                   2 |                           9 |\n",
      "|  7 | heart_failure_clinical_records |                 299 |                   2 |                          12 |\n",
      "|  8 | seeds                          |                 210 |                   3 |                           7 |\n",
      "|  9 | HCV                            |                 589 |                   5 |                          12 |\n",
      "| 10 | breast_tissue                  |                 106 |                   6 |                           9 |\n",
      "| 11 | digits                         |                1797 |                  10 |                          64 |\n",
      "| 12 | MNIST                          |                1500 |                  10 |                         784 |\n",
      "| 13 | FashionMNIST                   |                1500 |                  10 |                         784 |\n",
      "| 14 | KMNIST                         |                1500 |                  10 |                         784 |\n"
     ]
    }
   ],
   "source": [
    "print(df_info.to_markdown())"
   ]
  },
  {
   "cell_type": "markdown",
   "metadata": {},
   "source": [
    "#### 실험 설계"
   ]
  },
  {
   "cell_type": "code",
   "execution_count": 3,
   "metadata": {},
   "outputs": [],
   "source": [
    "from sklearn.model_selection import train_test_split\n",
    "from sklearn.metrics import accuracy_score\n",
    "from sklearn.svm import SVC\n",
    "from utils import set_seed"
   ]
  },
  {
   "cell_type": "code",
   "execution_count": 10,
   "metadata": {},
   "outputs": [],
   "source": [
    "def SVM_experiments(data, kernel, svm_configs={'C':1}):\n",
    "    seed_list = [0,1,2,3,4,5,6,7,8,9]\n",
    "    acc_list = []\n",
    "\n",
    "    for seed in seed_list:\n",
    "        set_seed(seed)\n",
    "        \n",
    "        X_train, X_test, y_train, y_test = train_test_split(data['x'], data['y'], \n",
    "                                                            test_size=0.33,\n",
    "                                                            random_state=seed)\n",
    "        \n",
    "        svm = SVC(kernel=kernel, random_state=seed, **svm_configs)\n",
    "        svm.fit(X_train, y_train)\n",
    "        pred = svm.predict(X_test)\n",
    "        \n",
    "        acc_list.append(accuracy_score(y_test, pred)*100)\n",
    "    \n",
    "    return round(np.mean(acc_list),2)"
   ]
  },
  {
   "cell_type": "markdown",
   "metadata": {},
   "source": [
    "#### 실험 및 실험 결과"
   ]
  },
  {
   "cell_type": "code",
   "execution_count": 17,
   "metadata": {},
   "outputs": [],
   "source": [
    "import time\n",
    "\n",
    "df_results = pd.DataFrame()\n",
    "df_time = pd.DataFrame()\n",
    "\n",
    "df_results['Dataset'] = data_list\n",
    "df_time['Dataset'] = data_list\n",
    "\n",
    "for kernel in ['linear','poly','sigmoid','rbf']:\n",
    "    acc_list = []\n",
    "    time_list = []\n",
    "\n",
    "    if kernel != 'poly':\n",
    "        for key, data in datasets.items():\n",
    "            \n",
    "            s_time = time.time()\n",
    "            crt_acc = SVM_experiments(data, kernel)\n",
    "            r_time = time.time() - s_time\n",
    "            \n",
    "            acc_list.append(crt_acc)\n",
    "            time_list.append(r_time)\n",
    "    \n",
    "    else:\n",
    "        for key, data in datasets.items():\n",
    "            \n",
    "            degree_acc = []\n",
    "            s_time = time.time()\n",
    "            degree_acc.append(SVM_experiments(data, kernel, {'degree':3}))\n",
    "            degree_acc.append(SVM_experiments(data, kernel, {'degree':5}))\n",
    "            degree_acc.append(SVM_experiments(data, kernel, {'degree':7}))\n",
    "            degree_acc.append(SVM_experiments(data, kernel, {'degree':9}))\n",
    "            degree_acc.append(SVM_experiments(data, kernel, {'degree':11}))\n",
    "            r_time = (time.time() - s_time)/5\n",
    "            \n",
    "            acc_list.append(max(degree_acc))\n",
    "            time_list.append(r_time)\n",
    "    \n",
    "    df_results[kernel] = acc_list\n",
    "    df_time[kernel] = time_list\n"
   ]
  },
  {
   "cell_type": "code",
   "execution_count": 19,
   "metadata": {},
   "outputs": [
    {
     "name": "stdout",
     "output_type": "stream",
     "text": [
      "|    | Dataset                        |   linear |   poly |   sigmoid |   rbf |\n",
      "|---:|:-------------------------------|---------:|-------:|----------:|------:|\n",
      "|  0 | iris                           |    97.6  |  97.2  |     27.4  | 96.6  |\n",
      "|  1 | breast_cancer                  |    95.37 |  91.6  |     46.7  | 91.76 |\n",
      "|  2 | wine                           |    94.92 |  67.8  |     26.78 | 68.81 |\n",
      "|  3 | penguins                       |    99.45 |  99.55 |     99.73 | 99.45 |\n",
      "|  4 | titanic                        |   100    |  98.03 |     97.7  | 94.59 |\n",
      "|  5 | algerian_forest_fires          |    95.93 |  84.2  |     93.33 | 93.21 |\n",
      "|  6 | breast_cancer_coimbra          |    72.82 |  66.41 |     65.13 | 72.05 |\n",
      "|  7 | heart_failure_clinical_records |    82.22 |  77.58 |     83.54 | 81.01 |\n",
      "|  8 | seeds                          |    94.71 |  87.43 |     94.29 | 94.57 |\n",
      "|  9 | HCV                            |    94.51 |  92.97 |     92.36 | 93.13 |\n",
      "| 10 | breast_tissue                  |    65.14 |  39.71 |     50.86 | 58    |\n",
      "| 11 | digits                         |    97.21 |  98.57 |     90.29 | 98.62 |\n",
      "| 12 | MNIST                          |    87.98 |  86.44 |     85.11 | 91.62 |\n",
      "| 13 | FashionMNIST                   |    80.59 |  74.48 |     43.37 | 81.11 |\n",
      "| 14 | KMNIST                         |    75.66 |  78.42 |     69.64 | 83.72 |\n"
     ]
    }
   ],
   "source": [
    "print(df_results.to_markdown())"
   ]
  },
  {
   "cell_type": "code",
   "execution_count": 30,
   "metadata": {},
   "outputs": [
    {
     "name": "stdout",
     "output_type": "stream",
     "text": [
      "|    | Dataset                        |    linear |      poly |   sigmoid |       rbf |\n",
      "|---:|:-------------------------------|----------:|----------:|----------:|----------:|\n",
      "|  0 | iris                           | 0.0129998 | 0.326424  | 0.0190001 | 0.0159991 |\n",
      "|  1 | breast_cancer                  | 3.53016   | 0.0225989 | 0.0489995 | 0.0340052 |\n",
      "|  2 | wine                           | 0.295108  | 0.0168794 | 0.0200005 | 0.0169954 |\n",
      "|  3 | penguins                       | 0.0160055 | 0.0197972 | 0.0139999 | 0.0159717 |\n",
      "|  4 | titanic                        | 0.0130272 | 0.0160017 | 0.0140002 | 0.0159998 |\n",
      "|  5 | algerian_forest_fires          | 0.0129726 | 0.0150005 | 0.0139997 | 0.0150001 |\n",
      "|  6 | breast_cancer_coimbra          | 0.0140071 | 0.0139982 | 0.013     | 0.0129998 |\n",
      "|  7 | heart_failure_clinical_records | 0.0209594 | 0.0221982 | 0.0250003 | 0.0210276 |\n",
      "|  8 | seeds                          | 0.014045  | 0.016208  | 0.0129998 | 0.0139725 |\n",
      "|  9 | HCV                            | 0.0269878 | 0.0318243 | 0.0249996 | 0.0349994 |\n",
      "| 10 | breast_tissue                  | 0.014014  | 0.0133984 | 0.013     | 0.0140002 |\n",
      "| 11 | digits                         | 0.141985  | 0.157818  | 0.444999  | 0.348028  |\n",
      "| 12 | MNIST                          | 0.844005  | 1.45006   | 1.06814   | 1.69422   |\n",
      "| 13 | FashionMNIST                   | 0.827233  | 0.957336  | 1.21803   | 1.53414   |\n",
      "| 14 | KMNIST                         | 1.15817   | 1.8599    | 1.26241   | 2.3484    |\n"
     ]
    }
   ],
   "source": [
    "print(df_time.to_markdown())"
   ]
  },
  {
   "cell_type": "code",
   "execution_count": 26,
   "metadata": {},
   "outputs": [
    {
     "name": "stdout",
     "output_type": "stream",
     "text": [
      "|    |   linear |   poly |   sigmoid |   rbf |\n",
      "|---:|---------:|-------:|----------:|------:|\n",
      "|  0 |      1   |      2 |         4 |   3   |\n",
      "|  1 |      1   |      3 |         4 |   2   |\n",
      "|  2 |      1   |      3 |         4 |   2   |\n",
      "|  3 |      3.5 |      2 |         1 |   3.5 |\n",
      "|  4 |      1   |      2 |         3 |   4   |\n",
      "|  5 |      1   |      4 |         2 |   3   |\n",
      "|  6 |      1   |      3 |         4 |   2   |\n",
      "|  7 |      2   |      4 |         1 |   3   |\n",
      "|  8 |      1   |      4 |         3 |   2   |\n",
      "|  9 |      1   |      3 |         4 |   2   |\n",
      "| 10 |      1   |      4 |         3 |   2   |\n",
      "| 11 |      3   |      2 |         4 |   1   |\n",
      "| 12 |      2   |      3 |         4 |   1   |\n",
      "| 13 |      2   |      3 |         4 |   1   |\n",
      "| 14 |      3   |      2 |         4 |   1   |\n"
     ]
    },
    {
     "name": "stderr",
     "output_type": "stream",
     "text": [
      "C:\\Users\\korea\\AppData\\Local\\Temp\\ipykernel_42616\\488488005.py:1: FutureWarning: Dropping of nuisance columns in DataFrame.rank is deprecated; in a future version this will raise TypeError. Select only valid columns before calling rank.\n",
      "  print(df_results.rank(method='average', axis=1, ascending=False).to_markdown())\n"
     ]
    }
   ],
   "source": [
    "print(df_results.rank(method='average', axis=1, ascending=False).to_markdown())"
   ]
  },
  {
   "cell_type": "code",
   "execution_count": 24,
   "metadata": {},
   "outputs": [
    {
     "name": "stderr",
     "output_type": "stream",
     "text": [
      "C:\\Users\\korea\\AppData\\Local\\Temp\\ipykernel_42616\\2455313512.py:1: FutureWarning: Dropping of nuisance columns in DataFrame.rank is deprecated; in a future version this will raise TypeError. Select only valid columns before calling rank.\n",
      "  df_results.rank(method='average', axis=1, ascending=False).mean()\n"
     ]
    },
    {
     "data": {
      "text/plain": [
       "linear     1.633333\n",
       "poly       2.933333\n",
       "sigmoid    3.266667\n",
       "rbf        2.166667\n",
       "dtype: float64"
      ]
     },
     "execution_count": 24,
     "metadata": {},
     "output_type": "execute_result"
    }
   ],
   "source": [
    "df_results.rank(method='average', axis=1, ascending=False).mean()"
   ]
  },
  {
   "cell_type": "markdown",
   "metadata": {},
   "source": [
    "#### 결과 해석\n",
    "\n",
    "1. 과적합 확인"
   ]
  },
  {
   "cell_type": "code",
   "execution_count": 33,
   "metadata": {},
   "outputs": [],
   "source": [
    "def overfitting_check(data, kernel, svm_configs={'C':1}):\n",
    "    seed_list = [0,1,2,3,4,5,6,7,8,9]\n",
    "    train_acc_list = []\n",
    "    test_acc_list = []\n",
    "\n",
    "    for seed in seed_list:\n",
    "        set_seed(seed)\n",
    "        \n",
    "        X_train, X_test, y_train, y_test = train_test_split(data['x'], data['y'], \n",
    "                                                            test_size=0.33,\n",
    "                                                            random_state=seed)\n",
    "        \n",
    "        svm = SVC(kernel=kernel, random_state=seed, **svm_configs)\n",
    "        svm.fit(X_train, y_train)\n",
    "        \n",
    "        train_pred = svm.predict(X_train)\n",
    "        train_acc_list.append(accuracy_score(y_train, train_pred)*100)\n",
    "        \n",
    "        test_pred = svm.predict(X_test)\n",
    "        test_acc_list.append(accuracy_score(y_test, test_pred)*100)\n",
    "    \n",
    "    return round(np.mean(train_acc_list),2), round(np.mean(test_acc_list),2)"
   ]
  },
  {
   "cell_type": "code",
   "execution_count": 35,
   "metadata": {},
   "outputs": [],
   "source": [
    "df_results = pd.DataFrame()\n",
    "\n",
    "df_results['Dataset'] = data_list\n",
    "\n",
    "for kernel in ['linear','rbf']:\n",
    "    train_acc_list = []\n",
    "    test_acc_list = []\n",
    "\n",
    "    for key, data in datasets.items():\n",
    "        \n",
    "        train_acc, test_acc = overfitting_check(data, kernel)\n",
    "        \n",
    "        train_acc_list.append(train_acc)\n",
    "        test_acc_list.append(test_acc)\n",
    "\n",
    "    \n",
    "    df_results[f'{kernel} train acc'] = train_acc_list\n",
    "    df_results[f'{kernel} test acc'] = test_acc_list"
   ]
  },
  {
   "cell_type": "code",
   "execution_count": 36,
   "metadata": {},
   "outputs": [
    {
     "name": "stdout",
     "output_type": "stream",
     "text": [
      "|    | Dataset                        |   linear train acc |   linear test acc |   rbf train acc |   rbf test acc |\n",
      "|---:|:-------------------------------|-------------------:|------------------:|----------------:|---------------:|\n",
      "|  0 | iris                           |              98.3  |             97.6  |           97    |          96.6  |\n",
      "|  1 | breast_cancer                  |              96.54 |             95.37 |           91.21 |          91.76 |\n",
      "|  2 | wine                           |              99.75 |             94.92 |           68.57 |          68.81 |\n",
      "|  3 | penguins                       |              99.82 |             99.45 |           99.6  |          99.45 |\n",
      "|  4 | titanic                        |             100    |            100    |           99.75 |          94.59 |\n",
      "|  5 | algerian_forest_fires          |              98.1  |             95.93 |           96.13 |          93.21 |\n",
      "|  6 | breast_cancer_coimbra          |              76.62 |             72.82 |           88.96 |          72.05 |\n",
      "|  7 | heart_failure_clinical_records |              85.05 |             82.22 |           90.4  |          81.01 |\n",
      "|  8 | seeds                          |              95.21 |             94.71 |           93.86 |          94.57 |\n",
      "|  9 | HCV                            |              98.68 |             94.51 |           97.49 |          93.13 |\n",
      "| 10 | breast_tissue                  |              76.34 |             65.14 |           68.73 |          58    |\n",
      "| 11 | digits                         |             100    |             97.21 |           99.56 |          98.62 |\n",
      "| 12 | MNIST                          |             100    |             87.98 |           98.41 |          91.62 |\n",
      "| 13 | FashionMNIST                   |             100    |             80.59 |           88.38 |          81.11 |\n",
      "| 14 | KMNIST                         |             100    |             75.66 |           98.18 |          83.72 |\n"
     ]
    }
   ],
   "source": [
    "print(df_results.to_markdown())"
   ]
  },
  {
   "cell_type": "markdown",
   "metadata": {},
   "source": [
    "2. 결정경계 시각화"
   ]
  },
  {
   "cell_type": "code",
   "execution_count": 85,
   "metadata": {},
   "outputs": [
    {
     "name": "stderr",
     "output_type": "stream",
     "text": [
      "c:\\Users\\korea\\anaconda3\\envs\\py39\\lib\\site-packages\\sklearn\\manifold\\_t_sne.py:800: FutureWarning: The default initialization in TSNE will change from 'random' to 'pca' in 1.2.\n",
      "  warnings.warn(\n",
      "c:\\Users\\korea\\anaconda3\\envs\\py39\\lib\\site-packages\\sklearn\\manifold\\_t_sne.py:810: FutureWarning: The default learning rate in TSNE will change from 200.0 to 'auto' in 1.2.\n",
      "  warnings.warn(\n"
     ]
    },
    {
     "data": {
      "text/plain": [
       "Text(0.5, 1.0, 'rbf kernel')"
      ]
     },
     "execution_count": 85,
     "metadata": {},
     "output_type": "execute_result"
    },
    {
     "data": {
      "image/png": "[encoded data removed]",
      "text/plain": [
       "<Figure size 864x360 with 2 Axes>"
      ]
     },
     "metadata": {
      "needs_background": "light"
     },
     "output_type": "display_data"
    }
   ],
   "source": [
    "from mlxtend.plotting import plot_decision_regions\n",
    "from sklearn.manifold import TSNE\n",
    "import matplotlib.pyplot as plt\n",
    "\n",
    "# heart failure clinical records 시각화\n",
    "\n",
    "data = datasets['titanic']\n",
    "\n",
    "tsne = TSNE(n_components=2, random_state=0)\n",
    "\n",
    "X = tsne.fit_transform(data['x'])\n",
    "\n",
    "X_train, X_test, y_train, y_test = train_test_split(X, data['y'], \n",
    "                                                            test_size=0.33,\n",
    "                                                            random_state=0)\n",
    "\n",
    "linear_svm = SVC(kernel='linear', random_state=0)\n",
    "rbf_svm = SVC(kernel='rbf', random_state=0)\n",
    "\n",
    "\n",
    "linear_svm.fit(X_train, y_train)\n",
    "rbf_svm.fit(X_train, y_train)\n",
    "\n",
    "plt.figure(figsize=(12,5))\n",
    "plt.subplot(1,2,1)\n",
    "plot_decision_regions(X_test, y_test, clf=linear_svm)\n",
    "\n",
    "plt.title('linear kernel')\n",
    "plt.subplot(1,2,2)\n",
    "plot_decision_regions(X_test, y_test, clf=rbf_svm)\n",
    "\n",
    "\n",
    "plt.title('rbf kernel')"
   ]
  },
  {
   "cell_type": "code",
   "execution_count": null,
   "metadata": {},
   "outputs": [],
   "source": []
  }
 ],
 "metadata": {
  "kernelspec": {
   "display_name": "Python 3.9.12 ('py39')",
   "language": "python",
   "name": "python3"
  },
  "language_info": {
   "codemirror_mode": {
    "name": "ipython",
    "version": 3
   },
   "file_extension": ".py",
   "mimetype": "text/x-python",
   "name": "python",
   "nbconvert_exporter": "python",
   "pygments_lexer": "ipython3",
   "version": "3.9.12"
  },
  "orig_nbformat": 4,
  "vscode": {
   "interpreter": {
    "hash": "6bacb95be4e4514d63bcba8b46d6bef0d7acf20e01bf75b4c03bf98063683e03"
   }
  }
 },
 "nbformat": 4,
 "nbformat_minor": 2
}
